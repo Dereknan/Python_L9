{
 "cells": [
  {
   "cell_type": "markdown",
   "id": "e82fdc76",
   "metadata": {},
   "source": [
    "# Import Library"
   ]
  },
  {
   "cell_type": "code",
   "execution_count": 10,
   "id": "578903c6",
   "metadata": {},
   "outputs": [],
   "source": [
    "import numpy as np\n",
    "import torch\n",
    "import torch.nn as nn\n",
    "import torch.nn.functional as F\n",
    "from torch.utils.data import TensorDataset, DataLoader\n",
    "import matplotlib.pyplot as plt\n",
    "import random\n"
   ]
  },
  {
   "cell_type": "code",
   "execution_count": 11,
   "id": "9d12fdad",
   "metadata": {},
   "outputs": [
    {
     "data": {
      "image/png": "[encoded data removed]",
      "text/plain": [
       "<Figure size 600x200 with 4 Axes>"
      ]
     },
     "metadata": {},
     "output_type": "display_data"
    }
   ],
   "source": [
    "def make_base_emoji(happy=True, size=10):\n",
    "    \"\"\"Return a 10x10 numpy array with a simple happy or sad face (0/1 pixels).\"\"\"\n",
    "    img = np.zeros((size, size), dtype=np.float32)\n",
    "\n",
    "    # Eyes\n",
    "    img[3, 3] = 1\n",
    "    img[3, 6] = 1\n",
    "\n",
    "    # Mouth (arc): happy is U-shape; sad is n-shape\n",
    "    mouth_y = 7\n",
    "    if happy:\n",
    "        # Happy: lower middle pixels\n",
    "        for x in [3,4,5,6]:\n",
    "            img[mouth_y, x] = 1\n",
    "        img[mouth_y-1, 3] = 1\n",
    "        img[mouth_y-1, 6] = 1\n",
    "    else:\n",
    "        # Sad: higher middle pixels\n",
    "        for x in [3,4,5,6]:\n",
    "            img[mouth_y-1, x] = 1\n",
    "        img[mouth_y, 3] = 1\n",
    "        img[mouth_y, 6] = 1\n",
    "\n",
    "    return img\n",
    "\n",
    "def jitter(img, max_shift=1, noise_prob=0.02):\n",
    "    # Mix it up to try and throw off the AI\n",
    "    out = img.copy()\n",
    "    # shift\n",
    "    dy = random.randint(-max_shift, max_shift)\n",
    "    dx = random.randint(-max_shift, max_shift)\n",
    "    out = np.roll(out, shift=dy, axis=0)\n",
    "    out = np.roll(out, shift=dx, axis=1)\n",
    "    # add tiny noise\n",
    "    flip_mask = np.random.rand(*out.shape) < noise_prob\n",
    "    out = np.clip(out + flip_mask.astype(np.float32), 0, 1)\n",
    "    return out\n",
    "\n",
    "# Quick visual sanity check\n",
    "fig, axs = plt.subplots(1, 4, figsize=(6,2))\n",
    "samples = [make_base_emoji(True), make_base_emoji(False)]\n",
    "samples += [jitter(samples[0]), jitter(samples[1])]\n",
    "titles = [\"Happy base\", \"Sad base\", \"Happy jitter\", \"Sad jitter\"]\n",
    "for ax, im, t in zip(axs, samples, titles):\n",
    "    ax.imshow(im, cmap='gray', vmin=0, vmax=1)\n",
    "    ax.set_title(t); ax.axis('off')\n",
    "plt.tight_layout(); plt.show()\n"
   ]
  },
  {
   "cell_type": "markdown",
   "id": "6ac909da",
   "metadata": {},
   "source": [
    "# Build own dataset"
   ]
  },
  {
   "cell_type": "code",
   "execution_count": 12,
   "id": "2849f42c",
   "metadata": {},
   "outputs": [
    {
     "name": "stdout",
     "output_type": "stream",
     "text": [
      "Train: (1600, 10, 10) (1600,) Test: (400, 10, 10) (400,)\n"
     ]
    },
    {
     "name": "stderr",
     "output_type": "stream",
     "text": [
      "/tmp/ipykernel_6015/3538411071.py:30: UserWarning: Glyph 128578 (\\N{SLIGHTLY SMILING FACE}) missing from font(s) DejaVu Sans.\n",
      "  plt.tight_layout(); plt.show()\n",
      "/tmp/ipykernel_6015/3538411071.py:30: UserWarning: Glyph 128577 (\\N{SLIGHTLY FROWNING FACE}) missing from font(s) DejaVu Sans.\n",
      "  plt.tight_layout(); plt.show()\n",
      "/home/cliff/Documents/Sync/ChampsRobotics_Laptop/.venv/lib64/python3.11/site-packages/IPython/core/pylabtools.py:170: UserWarning: Glyph 128578 (\\N{SLIGHTLY SMILING FACE}) missing from font(s) DejaVu Sans.\n",
      "  fig.canvas.print_figure(bytes_io, **kw)\n",
      "/home/cliff/Documents/Sync/ChampsRobotics_Laptop/.venv/lib64/python3.11/site-packages/IPython/core/pylabtools.py:170: UserWarning: Glyph 128577 (\\N{SLIGHTLY FROWNING FACE}) missing from font(s) DejaVu Sans.\n",
      "  fig.canvas.print_figure(bytes_io, **kw)\n"
     ]
    },
    {
     "data": {
      "image/png": "[encoded data removed]",
      "text/plain": [
       "<Figure size 1200x300 with 16 Axes>"
      ]
     },
     "metadata": {},
     "output_type": "display_data"
    }
   ],
   "source": [
    "def build_dataset(n_happy=1000, n_sad=1000):\n",
    "    X, y = [], []\n",
    "    for _ in range(n_happy):\n",
    "        X.append(jitter(make_base_emoji(True)))\n",
    "        y.append(1)  # 1 = happy\n",
    "    for _ in range(n_sad):\n",
    "        X.append(jitter(make_base_emoji(False)))\n",
    "        y.append(0)  # 0 = sad\n",
    "    X = np.stack(X)                        # (N, 10, 10)\n",
    "    y = np.array(y, dtype=np.int64)       # (N,)\n",
    "    # Shuffle\n",
    "    idx = np.random.permutation(len(X))\n",
    "    return X[idx], y[idx]\n",
    "\n",
    "X, y = build_dataset(800, 800)   # 1600 samples\n",
    "X_test, y_test = build_dataset(200, 200)\n",
    "\n",
    "print(\"Train:\", X.shape, y.shape, \"Test:\", X_test.shape, y_test.shape)\n",
    "\n",
    "# Peek at a few samples\n",
    "def show_grid(X, y, n=8):\n",
    "    cols = n\n",
    "    rows = 2\n",
    "    fig, axs = plt.subplots(rows, cols, figsize=(1.5*cols, 3))\n",
    "    for i in range(rows*cols):\n",
    "        r, c = divmod(i, cols)\n",
    "        axs[r, c].imshow(X[i], cmap='gray', vmin=0, vmax=1)\n",
    "        axs[r, c].set_title(\"🙂\" if y[i]==1 else \"🙁\")\n",
    "        axs[r, c].axis('off')\n",
    "    plt.tight_layout(); plt.show()\n",
    "\n",
    "show_grid(X, y, n=8)\n"
   ]
  },
  {
   "cell_type": "markdown",
   "id": "7227e4fa",
   "metadata": {},
   "source": [
    "# Load into Pytorch"
   ]
  },
  {
   "cell_type": "code",
   "execution_count": 13,
   "id": "a45e39b3",
   "metadata": {},
   "outputs": [],
   "source": [
    "# Flatten 10x10 to 100-dim vectors for an MLP\n",
    "X_t = torch.tensor(X).view(len(X), -1)\n",
    "y_t = torch.tensor(y)\n",
    "X_test_t = torch.tensor(X_test).view(len(X_test), -1)\n",
    "y_test_t = torch.tensor(y_test)\n",
    "\n",
    "train_ds = TensorDataset(X_t, y_t)\n",
    "test_ds  = TensorDataset(X_test_t, y_test_t)\n",
    "\n",
    "train_loader = DataLoader(train_ds, batch_size=64, shuffle=True)\n",
    "test_loader  = DataLoader(test_ds, batch_size=64)\n"
   ]
  },
  {
   "cell_type": "markdown",
   "id": "ac39d8c7",
   "metadata": {},
   "source": [
    "# Create the Neural Network"
   ]
  },
  {
   "cell_type": "code",
   "execution_count": 14,
   "id": "b89091bf",
   "metadata": {},
   "outputs": [],
   "source": [
    "class EmojiMLP(nn.Module):\n",
    "    def __init__(self):\n",
    "        super().__init__()\n",
    "        self.fc1 = nn.Linear(100, 64)\n",
    "        self.fc2 = nn.Linear(64, 32)\n",
    "        self.fc3 = nn.Linear(32, 2)  # 2 classes: sad(0), happy(1)\n",
    "    def forward(self, x):\n",
    "        x = F.relu(self.fc1(x))\n",
    "        x = F.relu(self.fc2(x))\n",
    "        x = self.fc3(x)\n",
    "        return x\n",
    "\n",
    "device = torch.device(\"cuda\" if torch.cuda.is_available() else \"cpu\")\n",
    "model = EmojiMLP().to(device)\n",
    "opt = torch.optim.Adam(model.parameters(), lr=1e-3)\n",
    "loss_fn = nn.CrossEntropyLoss()"
   ]
  },
  {
   "cell_type": "code",
   "execution_count": null,
   "id": "72b1c35a",
   "metadata": {},
   "outputs": [
    {
     "name": "stdout",
     "output_type": "stream",
     "text": [
      "Epoch 01 | loss=0.6792 | test acc=80.8%\n",
      "Epoch 02 | loss=0.6202 | test acc=85.0%\n",
      "Epoch 03 | loss=0.4776 | test acc=89.8%\n",
      "Epoch 04 | loss=0.2692 | test acc=99.0%\n",
      "Epoch 05 | loss=0.1105 | test acc=99.5%\n",
      "Epoch 06 | loss=0.0445 | test acc=100.0%\n",
      "Epoch 07 | loss=0.0227 | test acc=100.0%\n",
      "Epoch 08 | loss=0.0137 | test acc=100.0%\n",
      "Epoch 09 | loss=0.0096 | test acc=100.0%\n",
      "Epoch 10 | loss=0.0071 | test acc=100.0%\n",
      "Epoch 11 | loss=0.0055 | test acc=100.0%\n",
      "Epoch 12 | loss=0.0043 | test acc=100.0%\n"
     ]
    },
    {
     "data": {
      "image/png": "[encoded data removed]",
      "text/plain": [
       "<Figure size 500x300 with 1 Axes>"
      ]
     },
     "metadata": {},
     "output_type": "display_data"
    }
   ],
   "source": [
    "def train_epoch(model, loader):\n",
    "    model.train()\n",
    "    total_loss, total = 0.0, 0\n",
    "    for xb, yb in loader:\n",
    "        xb, yb = xb.to(device), yb.to(device)\n",
    "        opt.zero_grad()\n",
    "        logits = model(xb)\n",
    "        loss = loss_fn(logits, yb)\n",
    "        loss.backward()\n",
    "        opt.step()\n",
    "        total_loss += loss.item() * xb.size(0)\n",
    "        total += xb.size(0)\n",
    "    return total_loss / total\n",
    "\n",
    "def eval_acc(model, loader):\n",
    "    model.eval()\n",
    "    correct, total = 0, 0\n",
    "    with torch.no_grad():\n",
    "        for xb, yb in loader:\n",
    "            xb, yb = xb.to(device), yb.to(device)\n",
    "            preds = model(xb).argmax(dim=1)\n",
    "            correct += (preds == yb).sum().item()\n",
    "            total += yb.size(0)\n",
    "    return correct / total\n",
    "\n",
    "EPOCHS = 12\n",
    "train_hist = []\n",
    "for epoch in range(1, EPOCHS+1):\n",
    "    loss = train_epoch(model, train_loader)\n",
    "    acc  = eval_acc(model, test_loader)\n",
    "    train_hist.append((loss, acc))\n",
    "    print(f\"Epoch {epoch:02d} | loss={loss:.4f} | test acc={acc*100:.1f}%\")\n",
    "\n",
    "# Save model\n",
    "torch.save({\n",
    "    \"model_state\": model.state_dict(),\n",
    "    \"input_dim\": 100,   # 10x10 flattened\n",
    "    \"num_classes\": 2\n",
    "}, \"emoji_mlp.pth\")\n",
    "\n",
    "# Plot training progress (optional)\n",
    "plt.figure(figsize=(5,3))\n",
    "plt.plot([l for l,a in train_hist], label=\"loss\")\n",
    "plt.plot([a for l,a in train_hist], label=\"test acc\")\n",
    "plt.legend(); plt.xlabel(\"epoch\"); plt.title(\"Training Progress\")\n",
    "plt.show()\n"
   ]
  },
  {
   "cell_type": "markdown",
   "id": "46ba4e03",
   "metadata": {},
   "source": [
    "# Custom Hand Drawing"
   ]
  },
  {
   "cell_type": "code",
   "execution_count": 16,
   "id": "e9703afc",
   "metadata": {},
   "outputs": [
    {
     "data": {
      "image/png": "[encoded data removed]",
      "text/plain": [
       "<Figure size 640x480 with 1 Axes>"
      ]
     },
     "metadata": {},
     "output_type": "display_data"
    },
    {
     "name": "stdout",
     "output_type": "stream",
     "text": [
      "Model says: 🙂 (confidence 1.00)\n"
     ]
    }
   ],
   "source": [
    "def draw_custom(pts_on=None, size=10):\n",
    "    \"\"\"Create a blank grid, turn on pixels in pts_on=[(y,x), ...].\"\"\"\n",
    "    img = np.zeros((size, size), dtype=np.float32)\n",
    "    if pts_on:\n",
    "        for (r,c) in pts_on:\n",
    "            if 0 <= r < size and 0 <= c < size:\n",
    "                img[r,c] = 1\n",
    "    return img\n",
    "\n",
    "def predict_emoji(img10):\n",
    "    \"\"\"img10: 10x10 numpy array of 0/1; returns '🙂' or '🙁' and confidence.\"\"\"\n",
    "    with torch.no_grad():\n",
    "        x = torch.tensor(img10, dtype=torch.float32).view(1,-1).to(device)\n",
    "        logits = model(x)\n",
    "        probs = F.softmax(logits, dim=1).cpu().numpy()[0]\n",
    "    label = \"🙂\" if np.argmax(probs)==1 else \"🙁\"\n",
    "    conf = probs[np.argmax(probs)]\n",
    "    return label, float(conf)\n",
    "\n",
    "# Example: student draws a happy with lower arc\n",
    "custom = np.zeros((10,10), dtype=np.float32)\n",
    "# eyes\n",
    "custom[3,3] = 1; custom[3,6] = 1\n",
    "# mouth (U)\n",
    "for x in [3,4,5,6]:\n",
    "    custom[7, x] = 1\n",
    "custom[6,3] = 1; custom[6,6] = 1\n",
    "\n",
    "plt.imshow(custom, cmap='gray', vmin=0, vmax=1); plt.axis('off'); plt.title(\"Your Emoji\")\n",
    "plt.show()\n",
    "\n",
    "label, conf = predict_emoji(custom)\n",
    "print(\"Model says:\", label, f\"(confidence {conf:.2f})\")\n"
   ]
  }
 ],
 "metadata": {
  "kernelspec": {
   "display_name": ".venv",
   "language": "python",
   "name": "python3"
  },
  "language_info": {
   "codemirror_mode": {
    "name": "ipython",
    "version": 3
   },
   "file_extension": ".py",
   "mimetype": "text/x-python",
   "name": "python",
   "nbconvert_exporter": "python",
   "pygments_lexer": "ipython3",
   "version": "3.11.12"
  }
 },
 "nbformat": 4,
 "nbformat_minor": 5
}
